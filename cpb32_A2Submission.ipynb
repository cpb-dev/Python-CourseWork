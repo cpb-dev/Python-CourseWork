{
 "cells": [
  {
   "cell_type": "code",
   "execution_count": 38,
   "id": "e7c667b1",
   "metadata": {},
   "outputs": [
    {
     "name": "stdout",
     "output_type": "stream",
     "text": [
      "4 is made up from: 1 & 3\n",
      "Within the array [-6, 2, 1, 1, 5, 3, -2]\n"
     ]
    }
   ],
   "source": [
    "listnos = [-6, 2, 1, 1, 5, 3, -2]\n",
    "nosum = sum(listnos)\n",
    "\n",
    "for i in range(len(listnos)):\n",
    "    sno = nosum - listnos[i]\n",
    "    for j in range(i+1, len(listnos)):\n",
    "        if listnos[j] == sno:\n",
    "            a = listnos[i]\n",
    "            b = listnos[j]\n",
    "            \n",
    "print(str(nosum) + \" is made up from: \" + str(a) + \" & \" + str(b) + \"\\nWithin the array \" + str(listnos))\n"
   ]
  },
  {
   "cell_type": "code",
   "execution_count": 58,
   "id": "bfc91612",
   "metadata": {},
   "outputs": [
    {
     "name": "stdout",
     "output_type": "stream",
     "text": [
      "enter some text: ((a + b) * c) + d\n",
      "False\n"
     ]
    }
   ],
   "source": [
    "def bracketfinder(text):\n",
    "    #Text needs to have both double brackets to return true\n",
    "    if \"((\" in text and \"))\" in text:\n",
    "        return True\n",
    "    else: \n",
    "        return False\n",
    "\n",
    "user = input(\"enter some text: \")\n",
    "print(bracketfinder(user))"
   ]
  },
  {
   "cell_type": "code",
   "execution_count": 73,
   "id": "0c1d2b55",
   "metadata": {},
   "outputs": [
    {
     "name": "stdout",
     "output_type": "stream",
     "text": [
      "Enter a positive decimal number: 8\n",
      "1000\n"
     ]
    }
   ],
   "source": [
    "def findbinary(n):\n",
    "    return bin(n).replace(\"0b\", \"\") \n",
    "    #finds the binary but deletes the natural 0b that gets inputted infront\n",
    "\n",
    "number = input(\"Enter a positive decimal number: \")\n",
    "print(findbinary(int(number)))"
   ]
  }
 ],
 "metadata": {
  "kernelspec": {
   "display_name": "Python 3 (ipykernel)",
   "language": "python",
   "name": "python3"
  },
  "language_info": {
   "codemirror_mode": {
    "name": "ipython",
    "version": 3
   },
   "file_extension": ".py",
   "mimetype": "text/x-python",
   "name": "python",
   "nbconvert_exporter": "python",
   "pygments_lexer": "ipython3",
   "version": "3.8.10"
  }
 },
 "nbformat": 4,
 "nbformat_minor": 5
}
