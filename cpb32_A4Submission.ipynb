{
 "cells": [
  {
   "cell_type": "code",
   "execution_count": 1,
   "id": "9ab1781e",
   "metadata": {},
   "outputs": [
    {
     "name": "stdout",
     "output_type": "stream",
     "text": [
      "              id             date     price  bedrooms  bathrooms  sqft_living  \\\n",
      "0     7129300520  20141013T000000  221900.0         3       1.00         1180   \n",
      "1     1423800210  20140923T000000  230000.0         3       1.00         1640   \n",
      "2     2125049131  20140729T000000  680000.0         3       1.75         1620   \n",
      "3     5318101765  20140602T000000  985000.0         3       1.75         1670   \n",
      "4     6624300110  20140623T000000  375000.0         4       2.50         1870   \n",
      "...          ...              ...       ...       ...        ...          ...   \n",
      "2608   263000018  20140521T000000  360000.0         3       2.50         1530   \n",
      "2609  6600060120  20150223T000000  400000.0         4       2.50         2310   \n",
      "2610  1523300141  20140623T000000  402101.0         2       0.75         1020   \n",
      "2611   291310100  20150116T000000  400000.0         3       2.50         1600   \n",
      "2612  1523300157  20141015T000000  325000.0         2       0.75         1020   \n",
      "\n",
      "      sqft_lot  floors  waterfront  view  ...  sqft_above  sqft_basement  \\\n",
      "0         5650     1.0           0     0  ...        1180              0   \n",
      "1         7187     1.0           0     0  ...        1640              0   \n",
      "2         5500     1.0           0     0  ...        1110            510   \n",
      "3         5400     2.0           0     0  ...        1670              0   \n",
      "4         7471     2.0           0     0  ...        1870              0   \n",
      "...        ...     ...         ...   ...  ...         ...            ...   \n",
      "2608      1131     3.0           0     0  ...        1530              0   \n",
      "2609      5813     2.0           0     0  ...        2310              0   \n",
      "2610      1350     2.0           0     0  ...        1020              0   \n",
      "2611      2388     2.0           0     0  ...        1600              0   \n",
      "2612      1076     2.0           0     0  ...        1020              0   \n",
      "\n",
      "      yr_built  yr_renovated  zipcode      lat     long  sqft_living15  \\\n",
      "0         1955             0    98178  47.5112 -122.257           1340   \n",
      "1         1966             0    98058  47.4550 -122.182           1340   \n",
      "2         1950             0    98112  47.6393 -122.308           2100   \n",
      "3         1912             0    98112  47.6350 -122.284           2100   \n",
      "4         1990             0    98055  47.4314 -122.204           2020   \n",
      "...        ...           ...      ...      ...      ...            ...   \n",
      "2608      2009             0    98103  47.6993 -122.346           1530   \n",
      "2609      2014             0    98146  47.5107 -122.362           1830   \n",
      "2610      2009             0    98144  47.5944 -122.299           1020   \n",
      "2611      2004             0    98027  47.5345 -122.069           1410   \n",
      "2612      2008             0    98144  47.5941 -122.299           1020   \n",
      "\n",
      "      sqft_lot15  unit_price  \n",
      "0           5650  188.050847  \n",
      "1           8346  140.243902  \n",
      "2           6500  419.753086  \n",
      "3           5400  589.820359  \n",
      "4           8912  200.534759  \n",
      "...          ...         ...  \n",
      "2608        1509  235.294118  \n",
      "2609        7200  173.160173  \n",
      "2610        2007  394.216667  \n",
      "2611        1287  250.000000  \n",
      "2612        1357  318.627451  \n",
      "\n",
      "[2613 rows x 22 columns]\n"
     ]
    }
   ],
   "source": [
    "import pandas as pd\n",
    "\n",
    "data = pd.read_csv(\"http://raptor.kent.ac.uk/~ds756/kc_house_data_small.csv\")\n",
    "\n",
    "data[\"unit_price\"] = (data[\"price\"] / data[\"sqft_living\"]) #Working out the average price per sqft\n",
    "\n",
    "#data.head()\n",
    "print(data)"
   ]
  },
  {
   "cell_type": "code",
   "execution_count": 2,
   "id": "61d02008",
   "metadata": {},
   "outputs": [
    {
     "name": "stdout",
     "output_type": "stream",
     "text": [
      "         unit_price\n",
      "zipcode            \n",
      "98001        155.79\n",
      "98002        152.28\n",
      "98003        158.40\n",
      "98004        481.39\n",
      "98005        294.32\n",
      "...             ...\n",
      "98177        288.46\n",
      "98178        177.01\n",
      "98188        160.87\n",
      "98198        180.49\n",
      "98199        358.48\n",
      "\n",
      "[70 rows x 1 columns]\n"
     ]
    }
   ],
   "source": [
    "#Getting relevant columns and finding unit_price mean\n",
    "df2 = pd.DataFrame(data.groupby([\"zipcode\"])[\"unit_price\"].mean()) \n",
    "df2[\"unit_price\"] = df2[\"unit_price\"].round(2) #Rounding to 2 decimals\n",
    "\n",
    "#df2.head()\n",
    "print(df2)"
   ]
  },
  {
   "cell_type": "code",
   "execution_count": 3,
   "id": "e78ed6de",
   "metadata": {},
   "outputs": [
    {
     "data": {
      "image/png": "[encoded data removed]",
      "text/plain": [
       "<Figure size 432x288 with 1 Axes>"
      ]
     },
     "metadata": {
      "needs_background": "light"
     },
     "output_type": "display_data"
    }
   ],
   "source": [
    "import matplotlib.pyplot as plt\n",
    "import random\n",
    "\n",
    "#Getting the relevant data from the dataframe and finding mean for price\n",
    "avrgBedroom = pd.DataFrame(data.groupby([\"bedrooms\"])[\"price\"].mean()) \n",
    "avrgBedroom[\"price\"] = avrgBedroom[\"price\"].round(2) #Rounding to 2 decimals\n",
    "\n",
    "#Creating the x and y axis as lists\n",
    "x = avrgBedroom.index.tolist() #Index corresponds to no. rooms\n",
    "y = avrgBedroom[\"price\"].tolist()\n",
    "\n",
    "#Building bar chart with range of colours for bars\n",
    "plt.bar(x, y, color=[\"blue\", \"green\", \"red\", \"cyan\", \"maroon\", \n",
    "                    \"lime\", \"gray\", \"indigo\", \"pink\", \"plum\"])\n",
    "#Labels and title\n",
    "plt.xlabel(\"Number of Bedrooms\")\n",
    "plt.ylabel(\"Average Price\")\n",
    "plt.title(\"Mean of Bedroom Prices\")\n",
    "plt.show()\n"
   ]
  },
  {
   "cell_type": "code",
   "execution_count": 4,
   "id": "04139ba1",
   "metadata": {},
   "outputs": [
    {
     "data": {
      "image/png": "[encoded data removed]",
      "text/plain": [
       "<Figure size 432x288 with 1 Axes>"
      ]
     },
     "metadata": {
      "needs_background": "light"
     },
     "output_type": "display_data"
    }
   ],
   "source": [
    "#Finding the waterfront and non-waterfront properties based on first dataframe\n",
    "wtrfrnt = pd.DataFrame(data[data[\"waterfront\"] == 1])\n",
    "nonwtrfrnt = pd.DataFrame(data[data[\"waterfront\"] == 0])\n",
    "\n",
    "#creating x and y for non-waterfront properties\n",
    "x = nonwtrfrnt[\"long\"].tolist()\n",
    "y = nonwtrfrnt[\"lat\"].tolist()\n",
    "plt.scatter(x,y, color=\"blue\", label=\"Non-Waterfront\") #plotting scatter\n",
    "\n",
    "#Creating x and y for waterfront properties\n",
    "x = wtrfrnt[\"long\"].tolist()\n",
    "y = wtrfrnt[\"lat\"].tolist()\n",
    "plt.scatter(x, y, color=\"red\", label=\"Waterfront\") #plotting scatter\n",
    "\n",
    "#Labeling and title\n",
    "plt.xlabel(\"Longitude\")\n",
    "plt.ylabel(\"Latitude\")\n",
    "plt.title(\"Property Locations\")\n",
    "plt.show()"
   ]
  },
  {
   "cell_type": "code",
   "execution_count": null,
   "id": "3b886c17",
   "metadata": {},
   "outputs": [],
   "source": []
  }
 ],
 "metadata": {
  "kernelspec": {
   "display_name": "Python 3 (ipykernel)",
   "language": "python",
   "name": "python3"
  },
  "language_info": {
   "codemirror_mode": {
    "name": "ipython",
    "version": 3
   },
   "file_extension": ".py",
   "mimetype": "text/x-python",
   "name": "python",
   "nbconvert_exporter": "python",
   "pygments_lexer": "ipython3",
   "version": "3.8.10"
  }
 },
 "nbformat": 4,
 "nbformat_minor": 5
}
