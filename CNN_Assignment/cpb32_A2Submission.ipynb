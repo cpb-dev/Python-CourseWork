{
 "cells": [
  {
   "cell_type": "code",
   "execution_count": 11,
   "id": "337ae834",
   "metadata": {},
   "outputs": [
    {
     "name": "stdout",
     "output_type": "stream",
     "text": [
      "Made by Conor Bailey(cpb_32)\n",
      "Last modified:  15/12/2021 00:11:00\n",
      "\n"
     ]
    }
   ],
   "source": [
    "import datetime\n",
    "print(\"Made by Conor Bailey(cpb_32)\")\n",
    "print(\"Last modified: \", datetime.datetime.now().strftime(\"%d/%m/%Y %H:%M:%S\") + \"\\n\")"
   ]
  },
  {
   "cell_type": "markdown",
   "id": "355be1ea",
   "metadata": {},
   "source": [
    "- **(2-4):** Run your implementation of the Hebb rule on `data_HL_simple.txt`, and inspect the weights $w$ after every step of the algorithm. Identify the correlational pattern that the algorithm discovers. Are there any positively or negatively correlated features in these data according to the pattern seen in $w$?\n",
    "\n",
    "The weights seem to show correlations going both positive and negitive based on the random weight sets. They steadily increase or decrease accordingly. The final weights result with roughly 0.8 (whether positive or negative) consistantly being achieved, assuming the relationship with the data being a steady influence."
   ]
  },
  {
   "cell_type": "code",
   "execution_count": 3,
   "id": "54ad9e99",
   "metadata": {},
   "outputs": [
    {
     "name": "stdout",
     "output_type": "stream",
     "text": [
      "[[-1.  0. -1. -1.  1.]\n",
      " [-1. -1. -1. -1.  1.]\n",
      " [ 1.  0.  1.  1. -1.]\n",
      " [ 0. -1.  0.  0.  0.]]\n",
      "Initial weights\n",
      "[-0.24212451  0.08506126  0.10652521 -0.26401638 -0.51251771]\n",
      "\tCurrent input: [0. 0. 0. 0. 0.]\n",
      "New Weights:\n",
      "[-0.23595786  0.0929065   0.12492161 -0.24561997 -0.53091411]\n",
      "\tCurrent input: [-1.  0. -1. -1.  1.]\n",
      "New Weights:\n",
      "[-0.23705803  0.09650565  0.14263967 -0.22790192 -0.54863216]\n",
      "\tCurrent input: [0. 1. 0. 0. 0.]\n",
      "New Weights:\n",
      "[-0.24230567  0.09552486  0.16202533 -0.20851626 -0.56801783]\n",
      "\tCurrent input: [ 0.  0.  1.  1. -1.]\n",
      "New Weights:\n",
      "[-0.25959786  0.10622004  0.20544139 -0.1651002  -0.61143388]\n",
      "\tCurrent input: [ 1.  1.  1.  1. -1.]\n",
      "New Weights:\n",
      "[-0.25303293  0.1031822   0.24894108 -0.12160051 -0.65493357]\n",
      "\tCurrent input: [0. 0. 0. 0. 0.]\n",
      "New Weights:\n",
      "[-0.22844631  0.12123131  0.30031496 -0.07022663 -0.70630745]\n",
      "\tCurrent input: [-1.  0. -1. -1.  1.]\n",
      "New Weights:\n",
      "[-0.21689292  0.13226575  0.34641998 -0.02412161 -0.75241248]\n",
      "\tCurrent input: [0. 1. 0. 0. 0.]\n",
      "New Weights:\n",
      "[-0.22080155  0.13315825  0.39138187  0.02084028 -0.79737437]\n",
      "\tCurrent input: [ 0.  0.  1.  1. -1.]\n",
      "New Weights:\n",
      "[-0.24619609  0.15194391  0.48768525  0.11714366 -0.89367775]\n",
      "\tCurrent input: [ 1.  1.  1.  1. -1.]\n",
      "New Weights:\n",
      "[-0.21776553  0.14314133  0.59561785  0.22507626 -1.00161035]\n",
      "\tCurrent input: [0. 0. 0. 0. 0.]\n",
      "New Weights:\n",
      "[-0.14575964  0.18663907  0.72996898  0.35942739 -1.13596147]\n",
      "\tCurrent input: [-1.  0. -1. -1.  1.]\n",
      "New Weights:\n",
      "[-0.0999857   0.21707117  0.84693652  0.47639493 -1.25292902]\n",
      "\tCurrent input: [0. 1. 0. 0. 0.]\n",
      "New Weights:\n",
      "[-0.0986186   0.22383689  0.95471765  0.58417606 -1.36071014]\n",
      "\tCurrent input: [ 0.  0.  1.  1. -1.]\n",
      "New Weights:\n",
      "[-0.14110195  0.2617615   1.18021906  0.80967747 -1.58621156]\n",
      "\tCurrent input: [ 1.  1.  1.  1. -1.]\n",
      "New Weights:\n",
      "[-0.05612428  0.2394505   1.44768345  1.07714186 -1.85367595]\n",
      "\tCurrent input: [0. 0. 0. 0. 0.]\n",
      "New Weights:\n",
      "[ 0.13559175  0.34633146  1.78932053  1.41877894 -2.19531303]\n",
      "\tCurrent input: [-1.  0. -1. -1.  1.]\n",
      "New Weights:\n",
      "[ 0.26969172  0.4261469   2.08263471  1.71209312 -2.48862721]\n",
      "\tCurrent input: [0. 1. 0. 0. 0.]\n",
      "New Weights:\n",
      "[ 0.28654183  0.44907914  2.34550685  1.97496526 -2.75149935]\n",
      "\tCurrent input: [ 0.  0.  1.  1. -1.]\n",
      "New Weights:\n",
      "[ 0.20521554  0.53347853  2.88917484  2.51863325 -3.29516733]\n",
      "\tCurrent input: [ 1.  1.  1.  1. -1.]\n",
      "New Weights:\n",
      "[ 0.43325416  0.47881718  3.5519991   3.18145751 -3.9579916 ]\n",
      "\tCurrent input: [0. 0. 0. 0. 0.]\n",
      "New Weights:\n",
      "[ 0.92445978  0.74335484  4.40966776  4.03912617 -4.81566026]\n",
      "\tCurrent input: [-1.  0. -1. -1.  1.]\n",
      "New Weights:\n",
      "[ 1.28185933  0.94734685  5.14117538  4.77063379 -5.54716787]\n",
      "\tCurrent input: [0. 1. 0. 0. 0.]\n",
      "New Weights:\n",
      "[ 1.34006122  1.01245662  5.78792131  5.41737972 -6.19391381]\n",
      "\tCurrent input: [ 0.  0.  1.  1. -1.]\n",
      "New Weights:\n",
      "[ 1.1665612   1.2110847   7.11818584  6.74764425 -7.52417834]\n",
      "\tCurrent input: [ 1.  1.  1.  1. -1.]\n",
      "New Weights:\n",
      "[ 1.75288322  1.07781343  8.76134501  8.39080342 -9.1673375 ]\n",
      "\tCurrent input: [0. 0. 0. 0. 0.]\n",
      "New Weights:\n",
      "[  2.99015332   1.73412495  10.90150028  10.53095869 -11.30749278]\n",
      "\tCurrent input: [-1.  0. -1. -1.  1.]\n",
      "New Weights:\n",
      "[  3.90664374   2.24837706  12.72105429  12.3505127  -13.12704679]\n",
      "\tCurrent input: [0. 1. 0. 0. 0.]\n",
      "New Weights:\n",
      "[  4.07105392   2.42080471  14.31914181  13.94860022 -14.72513431]\n",
      "\tCurrent input: [ 0.  0.  1.  1. -1.]\n",
      "New Weights:\n",
      "[  3.67382312   2.90171389  17.59776702  17.22722543 -18.00375952]\n",
      "\tCurrent input: [ 1.  1.  1.  1. -1.]\n",
      "New Weights:\n",
      "[  5.15313371   2.57569666  21.67251638  21.30197479 -22.07850888]\n",
      "[  5.15313371   2.57569666  21.67251638  21.30197479 -22.07850888]\n",
      "[[1.         0.86877511]\n",
      " [0.86877511 1.        ]]\n"
     ]
    }
   ],
   "source": [
    "import numpy as np\n",
    "\n",
    "# load data from the text file\n",
    "data = np.loadtxt('data_HL_simple.txt', usecols=range(5))\n",
    "print(data[1:5,:])\n",
    "\n",
    "# we need a vector of 5 parameters\n",
    "w = np.random.normal(0, 0.5, 5)\n",
    "\n",
    "print(\"Initial weights\")\n",
    "print(w)\n",
    "\n",
    "# learning rate; don't change the learning rate epsilon when you are working on questions 2 and 3\n",
    "epsilon = 0.01\n",
    "\n",
    "num_iterations = 6\n",
    "\n",
    "update = 0\n",
    "# we can do a fixed number of iterations because the simple Hebb rule won't converge\n",
    "for i in range(num_iterations):\n",
    "    for x in data:\n",
    "\n",
    "        # DONE: add your code here; note that \"epsilon\"\n",
    "        # is defined above and it should be used here;\n",
    "        # don't change its default value in this question.\n",
    "        \n",
    "        y = np.dot(x, w) #Working out linear activation based on the current input and weights\n",
    "        w2 = epsilon * x * y #Finding the weight difference finding the epsilon as the learning rate by current input and linear activation \n",
    "        w = w + w2 #Changing the weight based on the previous weight\n",
    "        \n",
    "        update = update + 1\n",
    "        if update % 10 == 0:\n",
    "            # print every 10th update\n",
    "            print(\"\\tCurrent input: \" + str(x))\n",
    "            # print the weights for every x to see how they are evolving\n",
    "            print(\"New Weights:\\n\" + str(w))\n",
    "\n",
    "# the final weights\n",
    "print(w)\n",
    "print(np.corrcoef(x.T, w.T)) #Making the correlation matrix based on the final input and the weight"
   ]
  },
  {
   "cell_type": "markdown",
   "id": "de997bbf",
   "metadata": {},
   "source": [
    "- **(3-4):** The next step requires coding. Extend the code that implements simple Hebbian learning above and implement Oja's rule to learn one principal component for these data. We are interested in exactly one principal component in this exercise. Your implementation of Oja's rule should appear in the Python block below.\n",
    "\n",
    "- **(3-5):** Run your implementation of Oja's rule on `data_two_groups.txt`. Use the vector of parameters $w$ that you will obtain using Oja's rule to project the original five-dimensional data into 1 dimension defined by $w$. The image that you will obtain should be similar to the one produced by PCA in `sklearn` above. The images will be identical if you have run Oja's rule until convergence. This step will allow you to see very clearly how a low dimensional representation (and hence data compression) can be achieved using Hebbian learning/Oja's rule or PCA."
   ]
  },
  {
   "cell_type": "code",
   "execution_count": 2,
   "id": "b27ca104",
   "metadata": {},
   "outputs": [
    {
     "name": "stdout",
     "output_type": "stream",
     "text": [
      "[ 0.08381131  0.11480017 -0.4005318  -0.42272681 -0.80897229]\n"
     ]
    },
    {
     "data": {
      "image/png": "[encoded data removed]",
      "text/plain": [
       "<Figure size 432x288 with 1 Axes>"
      ]
     },
     "metadata": {
      "needs_background": "light"
     },
     "output_type": "display_data"
    }
   ],
   "source": [
    "import numpy as np\n",
    "import matplotlib.pyplot as plt\n",
    "from sklearn.decomposition import PCA\n",
    "\n",
    "# load data from the text file\n",
    "data = np.loadtxt('data_two_groups.txt', usecols=range(5))\n",
    "\n",
    "# Implement Oja's rule here extending your previous implementation\n",
    "# of the simple Hebb rule. Note that this question on Oja's rule\n",
    "# uses a different dataset. So, don't forget to change the dataset\n",
    "# after you have copied the code to this block.\n",
    "\n",
    "w = np.random.normal(0, 0.5, 5) #Random weights\n",
    "\n",
    "# learning rate\n",
    "epsilon = 0.01\n",
    "\n",
    "num_iterations = 6\n",
    "\n",
    "update = 0\n",
    "# we can do a fixed number of iterations because the simple Hebb rule won't converge\n",
    "for i in range(num_iterations):\n",
    "    for x in data:\n",
    "        \n",
    "        y = np.dot(x, w) #Working out linear activation based on the current input and weights\n",
    "        w2 = epsilon * (x * y - (y ** 2) * w) # Oja's rule\n",
    "        w = w + w2 #Changing the weight based on the previous weight\n",
    "        \n",
    "        update = update + 1\n",
    "\n",
    "# the final weights\n",
    "print(w)\n",
    "\n",
    "#Plotting data on scatter\n",
    "x = (data@ w) #Matmul for data and weights as they're 2D arrays\n",
    "\n",
    "plt.figure(1)\n",
    "y = np.zeros(x.shape[0]) #Creating a vector of zeros\n",
    "plt.scatter(x, y)\n",
    "plt.show()"
   ]
  },
  {
   "cell_type": "markdown",
   "id": "7e4b521a",
   "metadata": {},
   "source": [
    "- **(1-2):** In the code below, identify Python variables that correspond to the symbol $y_j$ in our lecture notes. What is the range of $j$ in this example? How does the number of values of $y_j$ for every $j$ relate to the number of data examples?\n",
    "\n",
    "\n",
    "Within the given example X_pca is $y_j$, based on the transform performed as part of the equation the range of $j$ is 0 and 1.\n",
    "Changing the values of $y_j$ will change the dimensions of the scatter, $j$ as -1 and 1 it changes to 1d rather than 2d."
   ]
  },
  {
   "cell_type": "code",
   "execution_count": 9,
   "id": "9be9cca4",
   "metadata": {},
   "outputs": [
    {
     "data": {
      "image/png": "[encoded data removed]",
      "text/plain": [
       "<Figure size 576x576 with 1 Axes>"
      ]
     },
     "metadata": {
      "needs_background": "light"
     },
     "output_type": "display_data"
    }
   ],
   "source": [
    "import math\n",
    "import numpy as np\n",
    "import matplotlib.pyplot as plt\n",
    "import pandas as pd\n",
    "\n",
    "from sklearn.datasets import load_iris\n",
    "from sklearn.decomposition import PCA\n",
    "\n",
    "# load the data from sklearn\n",
    "iris = load_iris()\n",
    "\n",
    "# X is np.ndarray and it contains four predictor attributes\n",
    "X = iris.data\n",
    "y = iris.target\n",
    "\n",
    "# print descriptive statistics using pandas data frame\n",
    "df_X = pd.DataFrame(X)\n",
    "\n",
    "# the number of principal components\n",
    "n_components = 2\n",
    "\n",
    "pca = PCA(n_components=n_components)\n",
    "\n",
    "# We fit the model and then transform the data.\n",
    "\n",
    "# Fit the model to the data; this is where PCA will do what Hebbian learning does to compute one principal component\n",
    "pca.fit(X)\n",
    "\n",
    "# we can now transform the data and project it to 2 dimensions.\n",
    "X_pca = pca.transform(X)\n",
    "\n",
    "colors = ['navy', 'turquoise', 'darkorange']\n",
    "title = \"PCA\"\n",
    "\n",
    "plt.figure(figsize=(8, 8))\n",
    "for color, i, target_name in zip(colors, [0, 1, 2], iris.target_names):\n",
    "    # note that y are targets defined above\n",
    "    plt.scatter(X_pca[y == i, 0], X_pca[y == i, 1],\n",
    "                    color=color, lw=2, label=target_name)\n",
    "\n",
    "plt.title(title + \" of iris dataset\")\n",
    "plt.legend(loc=\"best\", shadow=False, scatterpoints=1)\n",
    "\n",
    "plt.show()"
   ]
  },
  {
   "cell_type": "markdown",
   "id": "918c0781",
   "metadata": {},
   "source": [
    "- **(3-1)** Compute `data_rec`, which is the reconstruction of the original data from its compressed 1D representation that is stored in `data_pca`."
   ]
  },
  {
   "cell_type": "code",
   "execution_count": 10,
   "id": "cbaa00a1",
   "metadata": {},
   "outputs": [
    {
     "name": "stdout",
     "output_type": "stream",
     "text": [
      "[[1.03073034 0.50488764]\n",
      " [0.73073034 0.35488764]\n",
      " [1.21073034 0.50488764]\n",
      " [1.46073034 1.55488764]\n",
      " [0.66073034 0.50488764]]\n",
      "the parameters/axis\n",
      "[[0.86285419 0.50545291]]\n",
      "data_pca is the 1D representation of our data:\n",
      "[[0.80989272]\n",
      " [1.29988067]\n",
      " [2.04631978]\n",
      " [0.82531087]]\n"
     ]
    },
    {
     "data": {
      "image/png": "[encoded data removed]",
      "text/plain": [
       "<Figure size 432x288 with 1 Axes>"
      ]
     },
     "metadata": {
      "needs_background": "light"
     },
     "output_type": "display_data"
    }
   ],
   "source": [
    "from sklearn.datasets import load_wine\n",
    "import pandas as pd\n",
    "import matplotlib.pyplot as plt\n",
    "\n",
    "wine = load_wine()\n",
    "#dfwine = pd.DataFrame(wine.data, columns=wine.feature_names)\n",
    "#print(dfwine.corr())\n",
    "\n",
    "# we select 2 features that are correlated in this dataset\n",
    "ind = [wine['feature_names'].index('flavanoids'), wine['feature_names'].index('total_phenols')]\n",
    "data = wine.data[:,ind]\n",
    "# we centre the data to make the code below simpler\n",
    "data = data - np.mean(data, axis=0)\n",
    "print(data[0:5,:])\n",
    "\n",
    "# we will extract 1 component; note that our data is 2D\n",
    "n_components = 1\n",
    "\n",
    "pca = PCA(n_components=n_components)\n",
    "\n",
    "# We fit the model and transform the data in one line.\n",
    "data_pca = pca.fit_transform(data)\n",
    "print(\"the parameters/axis\")\n",
    "print(pca.components_)\n",
    "print(\"data_pca is the 1D representation of our data:\")\n",
    "print(data_pca[1:5])\n",
    "\n",
    "data_rec = pca.inverse_transform(data_pca) #reconstructing data_pca as 1D data\n",
    "\n",
    "# plot the data with the first PC\n",
    "plt.scatter(data_rec[:,0], data_rec[:,1]) #displaying data_rec\n",
    "plt.quiver(pca.components_[0][0], pca.components_[0][1], color=['red'], scale=2)\n",
    "plt.show()\n",
    "\n",
    "# data is the original data, and data_pca is the low dimensional representation of the data\n",
    "# your next step is to compute data_rec, which will be the reconstruction of the original data using data_pca\n",
    "# we are interested in the errors between data and data_rec"
   ]
  },
  {
   "cell_type": "markdown",
   "id": "ea20e677",
   "metadata": {},
   "source": [
    "- **(3-2)** Explain the difference between `data` and `data_rec`, and the role of `data_pca` in this relationship. In this question, you are only asked to interpret the result and the variables in question.\n",
    "\n",
    "Data runs a 2D scatter ranging the same as that in data_rec, which is the 1D equivalent. Data_rec is the restoration of data_pca displayed as a full 1D scatter when computed, which just shows the more recent point, in this example being a point between 0.8 and 1.2. "
   ]
  },
  {
   "cell_type": "code",
   "execution_count": null,
   "id": "c0deb22c",
   "metadata": {},
   "outputs": [],
   "source": []
  }
 ],
 "metadata": {
  "kernelspec": {
   "display_name": "Python 3 (ipykernel)",
   "language": "python",
   "name": "python3"
  },
  "language_info": {
   "codemirror_mode": {
    "name": "ipython",
    "version": 3
   },
   "file_extension": ".py",
   "mimetype": "text/x-python",
   "name": "python",
   "nbconvert_exporter": "python",
   "pygments_lexer": "ipython3",
   "version": "3.8.10"
  }
 },
 "nbformat": 4,
 "nbformat_minor": 5
}
